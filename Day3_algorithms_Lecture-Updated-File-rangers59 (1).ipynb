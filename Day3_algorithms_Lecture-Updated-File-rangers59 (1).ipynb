{
 "cells": [
  {
   "cell_type": "markdown",
   "metadata": {},
   "source": [
    "# Algorithms, Binary Search & Linked Lists"
   ]
  },
  {
   "cell_type": "markdown",
   "metadata": {},
   "source": [
    "## Tasks Today:\n",
    " \n",
    "1) <b>In-Place Algorithms</b> <br>\n",
    " &nbsp;&nbsp;&nbsp;&nbsp; a) Syntax <br>\n",
    " &nbsp;&nbsp;&nbsp;&nbsp; a) Out of Place Algorithm <br>\n",
    " &nbsp;&nbsp;&nbsp;&nbsp; b) In-Class Exercise #1 <br>\n",
    "2) <b>Two Pointers</b> <br>\n",
    "3) <b>Linked Lists</b> <br>\n",
    "4) <b>Merge Sort</b> <br>\n",
    " &nbsp;&nbsp;&nbsp;&nbsp; a) Video on Algorithms <br>\n",
    " &nbsp;&nbsp;&nbsp;&nbsp; b) How it Works <br>\n",
    "5) <b>Exercises</b> <br>\n",
    " &nbsp;&nbsp;&nbsp;&nbsp; a) Exercise #1 - Reverse a List in Place Using an In-Place Algorithm <br>\n",
    " &nbsp;&nbsp;&nbsp;&nbsp; b) Exercise #2 - Find Distinct Words <br>\n",
    " &nbsp;&nbsp;&nbsp;&nbsp; c) Exercise #3 - Write a program to implement a Linear Search Algorithm. <br>"
   ]
  },
  {
   "cell_type": "markdown",
   "metadata": {},
   "source": [
    "## In-Place Algorithms"
   ]
  },
  {
   "cell_type": "markdown",
   "metadata": {},
   "source": [
    "#### Syntax"
   ]
  },
  {
   "cell_type": "code",
   "execution_count": 89,
   "metadata": {},
   "outputs": [
    {
     "name": "stdout",
     "output_type": "stream",
     "text": [
      "After swap: [10, 4, 20]\n"
     ]
    }
   ],
   "source": [
    "# var(i), var(i+1) = var(i+1), var(i)\n",
    "# sometimes known as a swap algorithm (swap order of list)\n",
    "\n",
    "\n",
    "\n",
    "\n",
    "        # recipe #(ingredients)\n",
    "                # order doesnt matter but only when passing information, we need these\n",
    "def swap(a_list, x, y, z):\n",
    "    \n",
    "    #left side is value that we are moving   # right side is position we are changing it (overwriting)\n",
    "    # orginal list -                \n",
    "    a_list[x], a_list[y], a_list[z] = a_list[z], a_list[y], a_list[x]\n",
    "    return a_list\n",
    "\n",
    "\n",
    "my_list = [20, 4, 10]\n",
    "# print(f'Before swap: {my_list}')\n",
    "      \n",
    "         \n",
    "\n",
    "# # call it - x-z assigned here\n",
    "#             # x, y, z\n",
    "swap(my_list, 2, 1, 0)\n",
    "print(f'After swap: {my_list}')\n",
    "          \n",
    "    \n",
    "    # x, y, z\n",
    "# swap(my_list, 0, 1, 2)\n",
    "# print(f'After swap: {my_list}')"
   ]
  },
  {
   "cell_type": "markdown",
   "metadata": {},
   "source": [
    "#### Out of Place Algorithm"
   ]
  },
  {
   "cell_type": "code",
   "execution_count": 38,
   "metadata": {},
   "outputs": [
    {
     "name": "stdout",
     "output_type": "stream",
     "text": [
      "Before ['a', 'b', 'c', 'd']\n",
      "after ['d', 'c', 'b', 'a']\n"
     ]
    }
   ],
   "source": [
    "# not swapping, completely reversing but also copies to another place in memory\n",
    "\n",
    "# my_list_copy = my_list[::-1] # copies a list in reverse\n",
    "# print(my_list_copy)\n",
    "# print(my_list)\n",
    "\n",
    "array =  ['a', 'b', 'c', 'd']\n",
    "new_array = ['a'] * len(array)\n",
    "print('Before', array)\n",
    "length = len(array) - 1\n",
    "\n",
    "for i in range(length):\n",
    "    new_array[i] = array[length - i]\n",
    "    \n",
    "array = new_array\n",
    "print(\"after\", array)"
   ]
  },
  {
   "cell_type": "markdown",
   "metadata": {},
   "source": [
    "#### In-Class Exercise #1 <br>\n",
    "<p>Write a function that takes in four arguments (list, index1, index2, index3), and swaps those three positions in the list passed in.</p>"
   ]
  },
  {
   "cell_type": "code",
   "execution_count": 63,
   "metadata": {},
   "outputs": [
    {
     "name": "stdout",
     "output_type": "stream",
     "text": [
      "[4, 3, 10, 8, 4, 2, 6]\n"
     ]
    }
   ],
   "source": [
    "l_1 = [10, 4, 3, 8, 4, 2, 6]\n",
    "\n",
    "def swaping(your_list, index1, index2, index3):\n",
    "                #  3 4 10        >>        43         [10, 4, 3]\n",
    "    your_list[index3], your_list[index2], your_list[index1] = your_list[index2], your_list[index1], your_list[index3]\n",
    "\n",
    "swaping(l_1, 2, 1, 0)\n",
    "print(l_1)"
   ]
  },
  {
   "cell_type": "markdown",
   "metadata": {},
   "source": [
    "## Two Pointers"
   ]
  },
  {
   "cell_type": "markdown",
   "metadata": {},
   "source": [
    "#### Syntax"
   ]
  },
  {
   "cell_type": "code",
   "execution_count": 69,
   "metadata": {},
   "outputs": [
    {
     "data": {
      "text/plain": [
       "[22, 11, 4, 8, 9, 12, 3, 2, 1]"
      ]
     },
     "execution_count": 69,
     "metadata": {},
     "output_type": "execute_result"
    }
   ],
   "source": [
    "#alist[left], alist[right] = alist[right], alist[left]\n",
    "def twoPointers(alist):\n",
    "    left = 0\n",
    "    right = len(alist) - 1  #\"this is going to be the index of the last item\"\n",
    "    # set up a loop that works through our list and swaps things one pair at a time\n",
    "    while left <= right:\n",
    "        alist[left], alist[right] = alist[right], alist[left]\n",
    "        left += 1\n",
    "        right -= 1\n",
    "    return alist\n",
    "\n",
    "my_list = [1,2,3,12,9,8,4,11,22]\n",
    "twoPointers(my_list)"
   ]
  },
  {
   "cell_type": "markdown",
   "metadata": {},
   "source": [
    "#### Video of Algorithms <br>\n",
    "<p>Watch the video about algorithms.</p>\n",
    "\n",
    "https://www.youtube.com/watch?v=Q9HjeFD62Uk\n",
    "\n",
    "https://www.youtube.com/watch?v=kPRA0W1kECg\n",
    "\n",
    "https://www.youtube.com/watch?v=ZZuD6iUe3Pc"
   ]
  },
  {
   "cell_type": "markdown",
   "metadata": {},
   "source": [
    "# Sorting Algorithms"
   ]
  },
  {
   "cell_type": "markdown",
   "metadata": {},
   "source": [
    "#### Bubble Sort\n",
    "\n",
    "Worst Case: O(n^2) Time - O(1) Space"
   ]
  },
  {
   "cell_type": "code",
   "execution_count": 74,
   "metadata": {},
   "outputs": [
    {
     "data": {
      "text/plain": [
       "[1, 22, 34, 44, 55, 55, 66, 88, 100]"
      ]
     },
     "execution_count": 74,
     "metadata": {},
     "output_type": "execute_result"
    }
   ],
   "source": [
    "#Best case: 0(n) - Linear\n",
    "\n",
    "def swap(i, j, array):\n",
    "    array[i],  array[j] =  array[j],  array[i]\n",
    "\n",
    "def bubbleSort(array):\n",
    "    isSorted = False\n",
    "    while not isSorted:\n",
    "        isSorted = True\n",
    "        for num in range(len(array) - 1):\n",
    "            if array[num] > array[num+1]:\n",
    "                swap(num, num + 1, array)\n",
    "                isSorted = False\n",
    "    return array\n",
    "bubbleSort([22, 55, 34, 44, 55, 66, 88, 100, 1] )\n",
    "\n",
    "\n"
   ]
  },
  {
   "cell_type": "markdown",
   "metadata": {},
   "source": [
    "##### Insertion Sort\n",
    "\n",
    "Worst Case: O(n^2) time - O(1)space"
   ]
  },
  {
   "cell_type": "code",
   "execution_count": 77,
   "metadata": {},
   "outputs": [
    {
     "data": {
      "text/plain": [
       "[1, 22, 34, 44, 55, 55, 66, 88, 100]"
      ]
     },
     "execution_count": 77,
     "metadata": {},
     "output_type": "execute_result"
    }
   ],
   "source": [
    "def swap(i, j, array):\n",
    "    array[i],  array[j] =  array[j],  array[i]\n",
    "    \n",
    "    \n",
    "def insertionSort(array):\n",
    "    for i in range(1, len(array)): # MUST START AT 1 , to stay in range\n",
    "        j = i\n",
    "        while j > 0 and array[j] < array[j- 1]: # will check to see if the index value is less than the number before it(left) \n",
    "            swap(j, j - 1, array) # if so, it will swap\n",
    "            j -= 1\n",
    "    return array\n",
    "\n",
    "insertionSort([22, 55, 34, 44, 55, 66, 88, 100, 1])"
   ]
  },
  {
   "cell_type": "markdown",
   "metadata": {},
   "source": [
    "## Merge Sort"
   ]
  },
  {
   "cell_type": "markdown",
   "metadata": {},
   "source": [
    "#### How it Works"
   ]
  },
  {
   "cell_type": "code",
   "execution_count": 83,
   "metadata": {},
   "outputs": [
    {
     "name": "stdout",
     "output_type": "stream",
     "text": [
      "[6, 13, 6, 0, 1]\n",
      "Splitting.... [6, 13, 6, 0, 1]\n",
      "Splitting.... [6, 13]\n",
      "Splitting.... [6]\n",
      "merging... [6]\n",
      "Splitting.... [13]\n",
      "merging... [13]\n",
      "merging... [6, 13]\n",
      "Splitting.... [6, 0, 1]\n",
      "Splitting.... [6]\n",
      "merging... [6]\n",
      "Splitting.... [0, 1]\n",
      "Splitting.... [0]\n",
      "merging... [0]\n",
      "Splitting.... [1]\n",
      "merging... [1]\n",
      "merging... [0, 1]\n",
      "merging... [0, 1, 6]\n",
      "merging... [0, 1, 6, 6, 13]\n"
     ]
    },
    {
     "data": {
      "text/plain": [
       "[0, 1, 6, 6, 13]"
      ]
     },
     "execution_count": 83,
     "metadata": {},
     "output_type": "execute_result"
    }
   ],
   "source": [
    "# step 1: split everything into its own group\n",
    "# step 2: from left to right, merge two groups together\n",
    "# step 3: while merging, place each item in the correct position within the merged group\n",
    "# step 4: continue steps 3-4 until only one group is left.\n",
    "\n",
    "from random import randint\n",
    "#used to generate a random list of 5 numbers from 0 to 20\n",
    "nums = [randint(0,20) for i in range(5)]\n",
    "print(nums)\n",
    "\n",
    "#write our merge sort below\n",
    "def mergeSort(alist):\n",
    "    print(\"Splitting....\", alist)\n",
    "    \n",
    "    # step 1 divide the array into equal parts (as much as possible)\n",
    "    if len(alist) > 1:\n",
    "        mid = len(alist) // 2   #floor goes down\n",
    "        lefthalf = alist[:mid]\n",
    "        righthalf = alist[mid:]\n",
    "        \n",
    "        # use recursivelu call mergeSort to perform splot of needed\n",
    "        # THEN merge once the splits are done\n",
    "        mergeSort(lefthalf)\n",
    "        mergeSort(righthalf)\n",
    "        \n",
    "        #index pointers for our list\n",
    "        i = 0 # pointer for our left half\n",
    "        j = 0 #pointer for our right half\n",
    "        k = 0 #pointer for our main array\n",
    "        \n",
    "        #step 2: compare the left half and the right half\n",
    "        while i < len(lefthalf) and j < len(righthalf):\n",
    "            if lefthalf[i] < righthalf[j]:\n",
    "                alist[k] = lefthalf[i]\n",
    "                i = i + 1\n",
    "            \n",
    "            else:\n",
    "                alist[k] = righthalf[j]\n",
    "                j = j + 1\n",
    "            k = k + 1\n",
    "            \n",
    "        #step while merging place items in the correct positions\n",
    "        \n",
    "        while i < len(lefthalf):\n",
    "            alist[k] = lefthalf[i]\n",
    "            i += 1\n",
    "            k += 1\n",
    "        while j < len(righthalf):\n",
    "            alist[k] = righthalf[j]\n",
    "            j += 1\n",
    "            k += 1\n",
    "    print(\"merging...\", alist)\n",
    "    return alist\n",
    "mergeSort(nums)"
   ]
  },
  {
   "cell_type": "markdown",
   "metadata": {},
   "source": [
    "# Binary Search\n",
    "\n",
    "The Binary Search algorithm works by finding the number in the middle of a given array and comparing it to the target. Given that the array is sorted\n",
    "\n",
    "* The worst case run time for this algorithm is `O(log(n))`"
   ]
  },
  {
   "cell_type": "code",
   "execution_count": 87,
   "metadata": {},
   "outputs": [
    {
     "data": {
      "text/plain": [
       "'The index is...1'"
      ]
     },
     "execution_count": 87,
     "metadata": {},
     "output_type": "execute_result"
    }
   ],
   "source": [
    "# less = left  ..will be set to 0\n",
    "# Greater = right\n",
    "# List of numbers must be sorted!!!\n",
    "\n",
    "def binarySearchHelperFunction(array, target, left, right):\n",
    "    while left <= right:\n",
    "        middle = (left + right) // 2 #for index\n",
    "        potientialMatch = array[middle]\n",
    "        if target == potientialMatch:\n",
    "            return f'The index is...{middle}'\n",
    "        elif target < potientialMatch:\n",
    "            right = middle - 1\n",
    "        else:\n",
    "            left = middle + 1\n",
    "    return -1\n",
    "\n",
    "def binarySearch(array, target):\n",
    "    return binarySearchHelperFunction(array, target, 0, len(array)- 1)\n",
    "binarySearch([22,44,55,66,88,100,],44)"
   ]
  },
  {
   "cell_type": "markdown",
   "metadata": {},
   "source": [
    "# Exercises"
   ]
  },
  {
   "cell_type": "markdown",
   "metadata": {},
   "source": [
    "### Exercise #1 <br>\n",
    "<p>Reverse the list below in-place using an in-place algorithm.<br>For extra credit: Reverse the strings at the same time.</p>"
   ]
  },
  {
   "cell_type": "code",
   "execution_count": 105,
   "metadata": {},
   "outputs": [
    {
     "name": "stdout",
     "output_type": "stream",
     "text": [
      "After swap: ['.', 'ecnetnes', 'a', 'si', 'siht']\n"
     ]
    }
   ],
   "source": [
    "words = ['this' , 'is', 'a', 'sentence', '.']\n",
    "#output: ['.', ecnetnes ....everything backwards ]\n",
    "\n",
    "def reversing(alist, w1, w2, w3, w4, w5):\n",
    "    \n",
    "    alist[w1], alist[w2], alist[w3], alist[w4], alist[w5] = alist[w5][::-1], alist[w4][::-1], alist[w3][::-1], alist[w2][::-1], alist[w1][::-1]\n",
    "    \n",
    "    return alist\n",
    "\n",
    "reversing(words, 0, 1, 2, 3, 4)\n",
    "print(f'After swap: {words}')"
   ]
  },
  {
   "cell_type": "markdown",
   "metadata": {},
   "source": [
    "### Exercise #2 <br>\n",
    "<p>Create a function that counts how many distinct words are in the string below, then outputs a dictionary with the words as the key and the value as the amount of times that word appears in the string.<br>Should output:<br>{'a': 5,<br>\n",
    " 'abstract': 1,<br>\n",
    " 'an': 3,<br>\n",
    " 'array': 2, ... etc...</p>"
   ]
  },
  {
   "cell_type": "code",
   "execution_count": 106,
   "metadata": {},
   "outputs": [
    {
     "name": "stdout",
     "output_type": "stream",
     "text": [
      "{'In': 1, 'computing,': 1, 'a': 4, 'hash': 4, 'table': 2, 'map': 2, 'is': 1, 'data': 2, 'structure': 2, 'which': 2, 'implements': 1, 'an': 3, 'associative': 1, 'array': 2, 'abstract': 1, 'type,': 1, 'that': 1, 'can': 2, 'keys': 1, 'to': 2, 'values.': 1, 'A': 1, 'uses': 1, 'function': 1, 'compute': 1, 'index': 1, 'into': 1, 'of': 1, 'buckets': 1, 'or': 1, 'slots': 1, 'from': 1, 'the': 1, 'desired': 1, 'value': 1, 'be': 1, 'found': 1}\n"
     ]
    }
   ],
   "source": [
    "a_text = 'In computing, a hash table hash map is a data structure which implements an associative array abstract data type, a structure that can map keys to values. A hash table uses a hash function to compute an index into an array of buckets or slots from which the desired value can be found'\n",
    "\n",
    "new_list = a_text.split()\n",
    "\n",
    "\n",
    "def countDict(ur_list):\n",
    "    \n",
    "    unique_words = {}\n",
    "    \n",
    "    for word in ur_list:\n",
    "        if word in unique_words: #checks key\n",
    "            unique_words[word] += 1\n",
    "        else:\n",
    "            unique_words[word] = 1\n",
    "    return unique_words\n",
    "\n",
    "print(countDict(new_list))"
   ]
  },
  {
   "cell_type": "markdown",
   "metadata": {},
   "source": [
    "## Exercise #3\n",
    "\n",
    "Write a program to implement a Linear Search Algorithm. Also in a comment, write the Time Complexity of the following algorithm.\n",
    "\n",
    "#### Hint: Linear Searching will require searching a list for a given number. "
   ]
  },
  {
   "cell_type": "code",
   "execution_count": 12,
   "metadata": {},
   "outputs": [
    {
     "name": "stdout",
     "output_type": "stream",
     "text": [
      "[10, 20, 30, 40, 50, 60, 70, 80, 90]\n",
      "7\n"
     ]
    }
   ],
   "source": [
    "#list must be in order\n",
    "\n",
    "alist = [10, 50, 30, 70, 80, 60, 20, 90, 40]\n",
    "alist.sort()\n",
    "print(alist)\n",
    "def LinearSearchAlg(thelist, target):  \n",
    "    for index, element in enumerate(thelist):\n",
    "        if element == target:\n",
    "            return index\n",
    "    return -1  # means item is not found\n",
    "        \n",
    "print(LinearSearchAlg(alist, 80))\n",
    "\n",
    "#the time complexity of the linear search algorithm is O(n)"
   ]
  },
  {
   "cell_type": "code",
   "execution_count": null,
   "metadata": {},
   "outputs": [],
   "source": []
  }
 ],
 "metadata": {
  "kernelspec": {
   "display_name": "Python 3 (ipykernel)",
   "language": "python",
   "name": "python3"
  },
  "language_info": {
   "codemirror_mode": {
    "name": "ipython",
    "version": 3
   },
   "file_extension": ".py",
   "mimetype": "text/x-python",
   "name": "python",
   "nbconvert_exporter": "python",
   "pygments_lexer": "ipython3",
   "version": "3.11.5"
  }
 },
 "nbformat": 4,
 "nbformat_minor": 2
}
